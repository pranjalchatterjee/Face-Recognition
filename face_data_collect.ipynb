{
 "cells": [
  {
   "cell_type": "code",
   "execution_count": 4,
   "metadata": {},
   "outputs": [
    {
     "name": "stdout",
     "output_type": "stream",
     "text": [
      "Requirement already satisfied: opencv-python in c:\\users\\admin\\appdata\\local\\programs\\python\\python310\\lib\\site-packages (4.7.0.72)\n",
      "Requirement already satisfied: numpy>=1.21.2 in c:\\users\\admin\\appdata\\local\\programs\\python\\python310\\lib\\site-packages (from opencv-python) (1.23.5)\n",
      "Note: you may need to restart the kernel to use updated packages.\n"
     ]
    },
    {
     "name": "stderr",
     "output_type": "stream",
     "text": [
      "\n",
      "[notice] A new release of pip is available: 23.0.1 -> 23.1.2\n",
      "[notice] To update, run: python.exe -m pip install --upgrade pip\n"
     ]
    }
   ],
   "source": [
    "pip install opencv-python\n"
   ]
  },
  {
   "cell_type": "code",
   "execution_count": 5,
   "metadata": {},
   "outputs": [],
   "source": [
    "import cv2\n",
    "import numpy as np"
   ]
  },
  {
   "attachments": {},
   "cell_type": "markdown",
   "metadata": {},
   "source": [
    "1. Read and show video stream, capture images\n",
    "2. Detect faces and show bounding box\n",
    "3. Flatten the largest face image & save in a numpy array\n",
    "4. Repeat the above for multiple people to generate training data\n"
   ]
  },
  {
   "cell_type": "markdown",
   "metadata": {},
   "source": []
  },
  {
   "cell_type": "code",
   "execution_count": 6,
   "metadata": {},
   "outputs": [
    {
     "name": "stdout",
     "output_type": "stream",
     "text": [
      "1\n",
      "2\n",
      "3\n",
      "4\n",
      "5\n",
      "6\n",
      "7\n",
      "8\n",
      "9\n",
      "10\n",
      "11\n",
      "12\n",
      "(12, 30000)\n",
      "Data successfully saved at D:/IIEST clg/Project/Personal/Face_recognition/rajib.npy\n"
     ]
    }
   ],
   "source": [
    "cap = cv2.VideoCapture(0)  # init camera\n",
    "\n",
    "face_cascade_name = cv2.data.haarcascades + 'haarcascade_frontalface_alt.xml'\n",
    "face_cascade = cv2.CascadeClassifier()\n",
    "\n",
    "if not face_cascade.load(cv2.samples.findFile(face_cascade_name)):\n",
    "    print(\"Error loading XML file\")\n",
    "    exit(0)\n",
    "\n",
    "skip = 0\n",
    "face_data = []\n",
    "dataset_path = 'D:/IIEST clg/Project/Personal/Face_recognition/'\n",
    "file_name = input(\"Enter the name of the person: \")\n",
    "\n",
    "face_section = None  # Declare face_section variable outside the loop\n",
    "\n",
    "while True:\n",
    "    ret, frame = cap.read()\n",
    "\n",
    "    if ret == False:\n",
    "        continue\n",
    "\n",
    "    faces = face_cascade.detectMultiScale(frame, 1.3, 5)\n",
    "\n",
    "    faces = sorted(faces, key=lambda f: f[2] * f[3], reverse=True)\n",
    "\n",
    "    for face in faces:\n",
    "        x, y, w, h = face\n",
    "        cv2.rectangle(frame, (x, y), (x + w, y + h), (0, 255, 255), 2)\n",
    "\n",
    "        offset = 10\n",
    "        face_section = frame[y - offset: y + h + offset, x - offset: x + w + offset]\n",
    "        face_section = cv2.resize(face_section, (100, 100))\n",
    "\n",
    "        skip += 1\n",
    "        if skip % 10 == 0:\n",
    "            face_data.append(face_section)\n",
    "            print(len(face_data))\n",
    "\n",
    "    cv2.imshow(\"Video Frame\", frame)\n",
    "\n",
    "    if face_section is not None:\n",
    "        cv2.imshow(\"Face Section\", face_section)\n",
    "\n",
    "    key_pressed = cv2.waitKey(1) & 0xFF\n",
    "\n",
    "    if key_pressed == ord('q'):\n",
    "        break\n",
    "\n",
    "face_data = np.asarray(face_data)\n",
    "\n",
    "if face_data.shape[0] != 0:\n",
    "    face_data = face_data.reshape((face_data.shape[0], -1))\n",
    "    print(face_data.shape)\n",
    "    np.save(dataset_path + file_name + '.npy', face_data)\n",
    "    print(\"Data successfully saved at \" + dataset_path + file_name + '.npy')\n",
    "else:\n",
    "    print(\"No face data captured. Skipping saving.\")\n",
    "\n",
    "cap.release()\n",
    "cv2.destroyAllWindows()"
   ]
  }
 ],
 "metadata": {
  "kernelspec": {
   "display_name": "Python 3",
   "language": "python",
   "name": "python3"
  },
  "language_info": {
   "codemirror_mode": {
    "name": "ipython",
    "version": 3
   },
   "file_extension": ".py",
   "mimetype": "text/x-python",
   "name": "python",
   "nbconvert_exporter": "python",
   "pygments_lexer": "ipython3",
   "version": "3.10.4"
  },
  "orig_nbformat": 4,
  "vscode": {
   "interpreter": {
    "hash": "31671a60cee805c34c73116577b485118ff3a75c458d3004d49632c19702ac60"
   }
  }
 },
 "nbformat": 4,
 "nbformat_minor": 2
}
